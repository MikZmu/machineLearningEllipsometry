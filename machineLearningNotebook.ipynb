{
 "cells": [
  {
   "cell_type": "code",
   "execution_count": 1,
   "id": "0dc26d9e-c4f6-469c-a3bc-4d063047f3da",
   "metadata": {},
   "outputs": [
    {
     "name": "stdout",
     "output_type": "stream",
     "text": [
      "clap\n",
      "clap\n",
      "clap\n",
      "clap\n",
      "clap\n"
     ]
    }
   ],
   "source": [
    "set = [1,2,3,4,5]\n",
    "for i in set:\n",
    "    print(\"clap\")"
   ]
  },
  {
   "cell_type": "code",
   "execution_count": 4,
   "id": "96cf7872-2316-4e92-827c-d149fc54eaf5",
   "metadata": {},
   "outputs": [
    {
     "data": {
      "text/html": [
       "<h1>Hello, world!</h1>"
      ],
      "text/plain": [
       "<IPython.core.display.HTML object>"
      ]
     },
     "metadata": {},
     "output_type": "display_data"
    }
   ],
   "source": [
    "from IPython.display import display, HTML\n",
    "display(HTML('<h1>Hello, world!</h1>'))"
   ]
  },
  {
   "cell_type": "code",
   "execution_count": 5,
   "id": "b635b55e-2edb-4cd9-9f5d-bf9c15b62c7f",
   "metadata": {},
   "outputs": [
    {
     "data": {
      "text/html": [
       "<h2>Hejka</h2>"
      ],
      "text/plain": [
       "<IPython.core.display.HTML object>"
      ]
     },
     "metadata": {},
     "output_type": "display_data"
    }
   ],
   "source": [
    "display(HTML('<h2>Hejka</h2>'))"
   ]
  },
  {
   "cell_type": "code",
   "execution_count": null,
   "id": "69204f3d-b504-42c7-b6fb-b18b78ce3ced",
   "metadata": {},
   "outputs": [],
   "source": []
  },
  {
   "cell_type": "code",
   "execution_count": null,
   "id": "bb94d030-32cd-4187-9dcb-f762ad46c3b6",
   "metadata": {},
   "outputs": [],
   "source": []
  }
 ],
 "metadata": {
  "kernelspec": {
   "display_name": "Python 3 (ipykernel)",
   "language": "python",
   "name": "python3"
  },
  "language_info": {
   "codemirror_mode": {
    "name": "ipython",
    "version": 3
   },
   "file_extension": ".py",
   "mimetype": "text/x-python",
   "name": "python",
   "nbconvert_exporter": "python",
   "pygments_lexer": "ipython3",
   "version": "3.10.11"
  }
 },
 "nbformat": 4,
 "nbformat_minor": 5
}
