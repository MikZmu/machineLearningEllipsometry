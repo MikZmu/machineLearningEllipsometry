{
 "cells": [
  {
   "cell_type": "code",
   "execution_count": 1,
   "id": "0dc26d9e-c4f6-469c-a3bc-4d063047f3da",
   "metadata": {},
   "outputs": [
    {
     "name": "stdout",
     "output_type": "stream",
     "text": [
      "clap\n",
      "clap\n",
      "clap\n",
      "clap\n",
      "clap\n"
     ]
    }
   ],
   "source": [
    "set = [1,2,3,4,5]\n",
    "for i in set:\n",
    "    print(\"clap\")"
   ]
  },
  {
   "cell_type": "code",
   "execution_count": null,
   "id": "96cf7872-2316-4e92-827c-d149fc54eaf5",
   "metadata": {},
   "outputs": [],
   "source": []
  }
 ],
 "metadata": {
  "kernelspec": {
   "display_name": "Python 3 (ipykernel)",
   "language": "python",
   "name": "python3"
  },
  "language_info": {
   "codemirror_mode": {
    "name": "ipython",
    "version": 3
   },
   "file_extension": ".py",
   "mimetype": "text/x-python",
   "name": "python",
   "nbconvert_exporter": "python",
   "pygments_lexer": "ipython3",
   "version": "3.10.11"
  }
 },
 "nbformat": 4,
 "nbformat_minor": 5
}
