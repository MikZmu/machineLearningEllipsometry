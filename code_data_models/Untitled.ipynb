{
 "cells": [
  {
   "cell_type": "markdown",
   "id": "60c74d28-3373-4a20-84a9-6d062fd41797",
   "metadata": {},
   "source": [
    "Importing notebook containing class describing dataset."
   ]
  },
  {
   "cell_type": "code",
   "execution_count": 8,
   "id": "0e6f53f9-b148-4abe-93b8-f5aab2dcf456",
   "metadata": {},
   "outputs": [],
   "source": [
    "import import_ipynb\n",
    "import training_dataset\n",
    "import os\n",
    "import locations"
   ]
  },
  {
   "cell_type": "code",
   "execution_count": 9,
   "id": "901bc58f-70cf-47a9-afc0-6ef4389876fc",
   "metadata": {},
   "outputs": [],
   "source": [
    "dataset_dir = locations.datasets_dir\n",
    "new_Si_jaw_delta_dir = os.path.join(dataset_dir, 'new_Si_jaw_delta')"
   ]
  },
  {
   "cell_type": "code",
   "execution_count": 10,
   "id": "17800a38-1775-4589-9049-db890db7c5cb",
   "metadata": {},
   "outputs": [],
   "source": [
    "dataset = training_dataset.training_dataset(new_Si_jaw_delta_dir)"
   ]
  },
  {
   "cell_type": "code",
   "execution_count": null,
   "id": "15f21d27-2aaf-4b7a-84b5-d9486ae7bae1",
   "metadata": {},
   "outputs": [],
   "source": []
  }
 ],
 "metadata": {
  "kernelspec": {
   "display_name": "Python 3 (ipykernel)",
   "language": "python",
   "name": "python3"
  },
  "language_info": {
   "codemirror_mode": {
    "name": "ipython",
    "version": 3
   },
   "file_extension": ".py",
   "mimetype": "text/x-python",
   "name": "python",
   "nbconvert_exporter": "python",
   "pygments_lexer": "ipython3",
   "version": "3.12.3"
  }
 },
 "nbformat": 4,
 "nbformat_minor": 5
}
