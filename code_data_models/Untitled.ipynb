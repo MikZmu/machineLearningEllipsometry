{
 "cells": [
  {
   "cell_type": "code",
   "execution_count": 1,
   "id": "7cf0997f-b1c8-4ce7-8a47-e1b738d2aae8",
   "metadata": {},
   "outputs": [],
   "source": [
    "import import_ipynb\n",
    "import training_dataset as td\n",
    "import os\n",
    "import torch.nn as nn\n",
    "import locations as l"
   ]
  },
  {
   "cell_type": "code",
   "execution_count": 2,
   "id": "d873ff63-b5b3-4489-af55-97133a429fb8",
   "metadata": {},
   "outputs": [],
   "source": [
    "datasets_folder = l.locations.get_data_dir()"
   ]
  },
  {
   "cell_type": "code",
   "execution_count": 3,
   "id": "e3514520-f9aa-49ad-869b-a4158370fda3",
   "metadata": {},
   "outputs": [],
   "source": [
    "specific_dataset_location = os.path.join(datasets_folder, \"new_Si_jaw_delta\")"
   ]
  },
  {
   "cell_type": "code",
   "execution_count": 4,
   "id": "07dedf0f-d4a6-4fea-883e-1de6bfa379fc",
   "metadata": {},
   "outputs": [],
   "source": [
    "t_dataset = td.training_dataset(specific_dataset_location)"
   ]
  },
  {
   "cell_type": "code",
   "execution_count": null,
   "id": "15523639-08ba-43b3-b5f9-b61b9d025293",
   "metadata": {},
   "outputs": [
    {
     "name": "stdout",
     "output_type": "stream",
     "text": [
      "Current Loss: 1.08750832, Test Loss: 3.03126144\n"
     ]
    }
   ],
   "source": [
    "t_dataset.flat_train_1000(model_name = \"default\", feature_columns=['wavelength', 'psi65', 'del65', 'psi70', 'del70', 'psi75', 'del75'], target_columns=['B'], hidden_layers=[48, 48,48, 48, 48,48], loss=nn.MSELoss(), bs=0)"
   ]
  },
  {
   "cell_type": "code",
   "execution_count": null,
   "id": "8e64bb85-252d-4ba0-9aab-b7c53f72d28e",
   "metadata": {},
   "outputs": [],
   "source": [
    "model_dir = l.locations.get_models_dir()"
   ]
  },
  {
   "cell_type": "code",
   "execution_count": null,
   "id": "33cb62c1-a7ce-44ec-86e7-191109db6bce",
   "metadata": {},
   "outputs": [],
   "source": [
    "l.locations.list_models()"
   ]
  },
  {
   "cell_type": "code",
   "execution_count": null,
   "id": "5e946482-66ca-4239-b3c1-75fd37b7206f",
   "metadata": {},
   "outputs": [],
   "source": [
    "model_path = os.path.join(model_dir, \"model_wavelength_psi65_del65_psi70_del70_psi75_del75_to_T_non_standardized_layers_128_64_32.pth\")"
   ]
  },
  {
   "cell_type": "code",
   "execution_count": null,
   "id": "870d5c1f-eda4-431b-85fa-ad79dc088a34",
   "metadata": {},
   "outputs": [],
   "source": [
    "t_dataset.flat_test_r2(model_name = \"model_wavelength_psi65_del65_psi70_del70_psi75_del75_to_B_non_standardized_layers_128_64_32.pth\",\n",
    "                          feature_columns=['wavelength', 'psi65', 'del65', 'psi70', 'del70', 'psi75', 'del75'],\n",
    "                          target_columns = ['B'])\n"
   ]
  },
  {
   "cell_type": "code",
   "execution_count": null,
   "id": "7144e485-e31a-4904-8552-ffb090314b19",
   "metadata": {},
   "outputs": [],
   "source": []
  }
 ],
 "metadata": {
  "kernelspec": {
   "display_name": "Python 3 (ipykernel)",
   "language": "python",
   "name": "python3"
  },
  "language_info": {
   "codemirror_mode": {
    "name": "ipython",
    "version": 3
   },
   "file_extension": ".py",
   "mimetype": "text/x-python",
   "name": "python",
   "nbconvert_exporter": "python",
   "pygments_lexer": "ipython3",
   "version": "3.12.3"
  }
 },
 "nbformat": 4,
 "nbformat_minor": 5
}
