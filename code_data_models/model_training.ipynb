{
 "cells": [
  {
   "cell_type": "code",
   "execution_count": 1,
   "id": "ce4d91cd-1a74-4266-8b36-19add73df9c6",
   "metadata": {},
   "outputs": [],
   "source": [
    "import matplotlib.pyplot as plt\n",
    "import time\n",
    "import import_ipynb\n",
    "import torch\n",
    "import IPython\n",
    "from IPython.core.display_functions import clear_output\n",
    "#from orca.orca_state import device\n",
    "\n",
    "\n",
    "def train_model(model, loss_fn, optimizer, x_train, y_train, x_test, y_test, save_path):\n",
    "\n",
    "    best_loss = float('inf')\n",
    "    start_time = time.time()\n",
    "    times, losses = [], []\n",
    "    \"\"\"plt.ion()\n",
    "    fig, ax = plt.subplots(figsize=(10, 5))\"\"\"\n",
    "    device = torch.device(\"cuda\" if torch.cuda.is_available() else \"cpu\")\n",
    "    print(device)\n",
    "    model = model.to(device)\n",
    "    x_train, y_train = x_train.to(device), y_train.to(device)\n",
    "    x_test, y_test = x_test.to(device), y_test.to(device)\n",
    "\n",
    "\n",
    "    while True:\n",
    "        # Forward pass\n",
    "        outputs = model(x_train)\n",
    "        loss = loss_fn(outputs, y_train)\n",
    "        test_loss = loss_fn(model(x_test), y_test)\n",
    "\n",
    "        # Backward pass and optimization\n",
    "        optimizer.zero_grad()\n",
    "        loss.backward()\n",
    "        optimizer.step()\n",
    "\n",
    "        #if scheduler:\n",
    "         #   scheduler.step(loss)\n",
    "\n",
    "        # Record time and loss\n",
    "        #elapsed_time = time.time() - start_time\n",
    "        #times.append(elapsed_time)\n",
    "        #losses.append(loss.item())\n",
    "\n",
    "        if loss.item() < best_loss:\n",
    "            best_loss = loss.item()\n",
    "            torch.save(model.state_dict(), save_path)\n",
    "            print(f\"New best loss: {best_loss:.4f}. Model saved to {save_path}.\")\n",
    "\n",
    "        \"\"\"ax.clear()\n",
    "        ax.plot(times, losses, label=\"Training Loss\")\n",
    "        ax.set_xlabel(\"Time (seconds)\")\n",
    "        ax.set_ylabel(\"Loss\")\n",
    "        ax.set_title(\"Loss vs Time\")\n",
    "        ax.legend()\n",
    "        ax.grid()\n",
    "        plt.pause(0.01)  # Pause briefly to update the plot\"\"\"\n",
    "\n",
    "        print(f\"Current Loss: {loss.item():.8f}, Test Loss: {test_loss.item():.8f}\")"
   ]
  },
  {
   "cell_type": "code",
   "execution_count": null,
   "id": "e6de8b48-018b-415f-97bd-8abc6653a0ef",
   "metadata": {},
   "outputs": [],
   "source": [
    "i"
   ]
  }
 ],
 "metadata": {
  "kernelspec": {
   "display_name": "Python 3 (ipykernel)",
   "language": "python",
   "name": "python3"
  },
  "language_info": {
   "codemirror_mode": {
    "name": "ipython",
    "version": 3
   },
   "file_extension": ".py",
   "mimetype": "text/x-python",
   "name": "python",
   "nbconvert_exporter": "python",
   "pygments_lexer": "ipython3",
   "version": "3.12.3"
  }
 },
 "nbformat": 4,
 "nbformat_minor": 5
}
