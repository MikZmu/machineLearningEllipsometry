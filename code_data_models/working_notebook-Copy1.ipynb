{
 "cells": [
  {
   "cell_type": "markdown",
   "id": "60c74d28-3373-4a20-84a9-6d062fd41797",
   "metadata": {},
   "source": [
    "Importing notebook containing class describing dataset."
   ]
  },
  {
   "cell_type": "code",
   "execution_count": 1,
   "id": "0e6f53f9-b148-4abe-93b8-f5aab2dcf456",
   "metadata": {},
   "outputs": [],
   "source": [
    "import import_ipynb\n",
    "import training_dataset as td\n",
    "import os\n",
    "import torch.nn as nn\n",
    "import locations as l"
   ]
  },
  {
   "cell_type": "markdown",
   "id": "2419cba7-5ada-48ca-8f26-290e783ea784",
   "metadata": {},
   "source": [
    "listing folders in dataset folder"
   ]
  },
  {
   "cell_type": "code",
   "execution_count": 2,
   "id": "901bc58f-70cf-47a9-afc0-6ef4389876fc",
   "metadata": {},
   "outputs": [
    {
     "data": {
      "text/plain": [
       "['Si_jaw_delta',\n",
       " 'lifesat',\n",
       " 'half_new_Si_jaw_delta',\n",
       " 'quarter_new_Si_jaw_delta',\n",
       " 'si02',\n",
       " 'Si_jaw',\n",
       " 'new_Si_jaw_delta',\n",
       " '.ipynb_checkpoints',\n",
       " 'R2_comparison_2.ipynb']"
      ]
     },
     "execution_count": 2,
     "metadata": {},
     "output_type": "execute_result"
    }
   ],
   "source": [
    "l.locations.list_datasets()"
   ]
  },
  {
   "cell_type": "code",
   "execution_count": 3,
   "id": "a2f4e432-57bc-4ee1-989c-5c4321d43e80",
   "metadata": {},
   "outputs": [],
   "source": [
    "datasets_folder = l.locations.get_data_dir()"
   ]
  },
  {
   "cell_type": "code",
   "execution_count": 4,
   "id": "5c5f3fb7-ebed-4f43-9b45-0175df2753b7",
   "metadata": {},
   "outputs": [],
   "source": [
    "specific_dataset_location = os.path.join(datasets_folder, \"new_Si_jaw_delta\")"
   ]
  },
  {
   "cell_type": "markdown",
   "id": "b22c382c-0e4b-44da-aa30-117dfd847b08",
   "metadata": {},
   "source": [
    "creating new instance of training_dataset class"
   ]
  },
  {
   "cell_type": "code",
   "execution_count": 5,
   "id": "58e723dc-93e0-4ed3-b118-319121bc1109",
   "metadata": {},
   "outputs": [],
   "source": [
    "t_dataset = td.training_dataset(specific_dataset_location, col = ['wavelength', 'psi65', 'del65', 'psi70', 'del70', 'psi75', 'del75'])"
   ]
  },
  {
   "cell_type": "markdown",
   "id": "1f5f53b5-6d19-40f9-b5f4-cee53b07c159",
   "metadata": {},
   "source": [
    "creating scalers based on chosen columns"
   ]
  },
  {
   "cell_type": "code",
   "execution_count": 6,
   "id": "84a12128-d5de-429e-be9b-1266e729e2b4",
   "metadata": {},
   "outputs": [
    {
     "name": "stdout",
     "output_type": "stream",
     "text": [
      "['wavelength', 'psi65', 'del65', 'psi70', 'del70', 'psi75', 'del75']\n",
      "['wavelength', 'psi65', 'del65', 'psi70', 'del70', 'psi75', 'del75']\n",
      "['T', 'A', 'B', 'C']\n",
      "['T', 'A', 'B', 'C']\n"
     ]
    }
   ],
   "source": [
    "t_dataset.flat_create_scaler(col=['wavelength', 'psi65', 'del65', 'psi70', 'del70', 'psi75', 'del75'])\n",
    "t_dataset.flat_create_scaler(col =['T','A','B','C'])"
   ]
  },
  {
   "cell_type": "markdown",
   "id": "ea069c1d-9f55-4b5c-bdd1-b03a0027867c",
   "metadata": {},
   "source": [
    "listing scalers present in scalers folder - previously created scalers are listed as  'scaler_wavelength_psi65_del65_psi70_del70_psi75_del75.pkl' and 'scaler_T_A_B_C.pkl'"
   ]
  },
  {
   "cell_type": "code",
   "execution_count": null,
   "id": "b02194fc-4c07-4d77-ab09-25e3468e9d05",
   "metadata": {},
   "outputs": [],
   "source": [
    "l.locations.list_scalers()"
   ]
  },
  {
   "cell_type": "markdown",
   "id": "012807ef-e396-418a-9f94-ffecf12f157c",
   "metadata": {},
   "source": [
    "training model using data scaled with previously generated scalers"
   ]
  },
  {
   "cell_type": "code",
   "execution_count": 15,
   "id": "4a897b91-8001-49fa-9336-52777e86712e",
   "metadata": {},
   "outputs": [
    {
     "ename": "KeyboardInterrupt",
     "evalue": "",
     "output_type": "error",
     "traceback": [
      "\u001b[31m---------------------------------------------------------------------------\u001b[39m",
      "\u001b[31mKeyboardInterrupt\u001b[39m                         Traceback (most recent call last)",
      "\u001b[36mCell\u001b[39m\u001b[36m \u001b[39m\u001b[32mIn[15]\u001b[39m\u001b[32m, line 1\u001b[39m\n\u001b[32m----> \u001b[39m\u001b[32m1\u001b[39m \u001b[43mt_dataset\u001b[49m\u001b[43m.\u001b[49m\u001b[43mtrain\u001b[49m\u001b[43m(\u001b[49m\u001b[43mmodel_name\u001b[49m\u001b[43m \u001b[49m\u001b[43m=\u001b[49m\u001b[43m \u001b[49m\u001b[33;43m\"\u001b[39;49m\u001b[33;43mdefault\u001b[39;49m\u001b[33;43m\"\u001b[39;49m\u001b[43m,\u001b[49m\u001b[43m \u001b[49m\u001b[43mfeature_columns\u001b[49m\u001b[43m=\u001b[49m\u001b[43m[\u001b[49m\u001b[33;43m'\u001b[39;49m\u001b[33;43mwavelength\u001b[39;49m\u001b[33;43m'\u001b[39;49m\u001b[43m,\u001b[49m\u001b[43m \u001b[49m\u001b[33;43m'\u001b[39;49m\u001b[33;43mpsi65\u001b[39;49m\u001b[33;43m'\u001b[39;49m\u001b[43m,\u001b[49m\u001b[43m \u001b[49m\u001b[33;43m'\u001b[39;49m\u001b[33;43mdel65\u001b[39;49m\u001b[33;43m'\u001b[39;49m\u001b[43m,\u001b[49m\u001b[43m \u001b[49m\u001b[33;43m'\u001b[39;49m\u001b[33;43mpsi70\u001b[39;49m\u001b[33;43m'\u001b[39;49m\u001b[43m,\u001b[49m\u001b[43m \u001b[49m\u001b[33;43m'\u001b[39;49m\u001b[33;43mdel70\u001b[39;49m\u001b[33;43m'\u001b[39;49m\u001b[43m,\u001b[49m\u001b[43m \u001b[49m\u001b[33;43m'\u001b[39;49m\u001b[33;43mpsi75\u001b[39;49m\u001b[33;43m'\u001b[39;49m\u001b[43m,\u001b[49m\u001b[43m \u001b[49m\u001b[33;43m'\u001b[39;49m\u001b[33;43mdel75\u001b[39;49m\u001b[33;43m'\u001b[39;49m\u001b[43m]\u001b[49m\u001b[43m,\u001b[49m\u001b[43m \u001b[49m\u001b[43mtarget_columns\u001b[49m\u001b[43m=\u001b[49m\u001b[43m[\u001b[49m\u001b[33;43m'\u001b[39;49m\u001b[33;43mA\u001b[39;49m\u001b[33;43m'\u001b[39;49m\u001b[43m]\u001b[49m\u001b[43m,\u001b[49m\u001b[43m \u001b[49m\u001b[43mhidden_layers\u001b[49m\u001b[43m=\u001b[49m\u001b[43m[\u001b[49m\u001b[32;43m32\u001b[39;49m\u001b[43m,\u001b[49m\u001b[43m \u001b[49m\u001b[32;43m16\u001b[39;49m\u001b[43m,\u001b[49m\u001b[43m \u001b[49m\u001b[32;43m16\u001b[39;49m\u001b[43m,\u001b[49m\u001b[32;43m8\u001b[39;49m\u001b[43m]\u001b[49m\u001b[43m,\u001b[49m\u001b[43m \u001b[49m\u001b[43mloss\u001b[49m\u001b[43m=\u001b[49m\u001b[43mnn\u001b[49m\u001b[43m.\u001b[49m\u001b[43mMSELoss\u001b[49m\u001b[43m(\u001b[49m\u001b[43m)\u001b[49m\u001b[43m,\u001b[49m\u001b[43m \u001b[49m\u001b[43mbs\u001b[49m\u001b[43m=\u001b[49m\u001b[32;43m0\u001b[39;49m\u001b[43m)\u001b[49m\n",
      "\u001b[36mFile \u001b[39m\u001b[32m<string>:507\u001b[39m, in \u001b[36mtrain\u001b[39m\u001b[34m(self, model_name, feature_columns, target_columns, hidden_layers, loss, bs)\u001b[39m\n",
      "\u001b[36mFile \u001b[39m\u001b[32m<string>:105\u001b[39m, in \u001b[36mtrain_model\u001b[39m\u001b[34m(model, loss_fn, optimizer, x_train, y_train, x_test, y_test, model_name, batch_size)\u001b[39m\n",
      "\u001b[31mKeyboardInterrupt\u001b[39m: "
     ]
    }
   ],
   "source": [
    "t_dataset.train(model_name = \"default\", feature_columns=['wavelength', 'psi65', 'del65', 'psi70', 'del70', 'psi75', 'del75'], target_columns=['A'], hidden_layers=[32, 16, 16,8], loss=nn.MSELoss(), bs=0)"
   ]
  },
  {
   "cell_type": "code",
   "execution_count": 16,
   "id": "318d4675-4688-4a9b-9c48-61efbf7fc3d8",
   "metadata": {},
   "outputs": [
    {
     "name": "stdout",
     "output_type": "stream",
     "text": [
      "Train R2: 0.7497936487197876\n",
      "Test R2: 0.7481371760368347\n",
      "Combined R2: 0.7494618892669678\n"
     ]
    },
    {
     "data": {
      "text/plain": [
       "{'train_r2': 0.7497936487197876,\n",
       " 'test_r2': 0.7481371760368347,\n",
       " 'combined_r2': 0.7494618892669678}"
      ]
     },
     "execution_count": 16,
     "metadata": {},
     "output_type": "execute_result"
    }
   ],
   "source": [
    "t_dataset.test(\"model_wavelength_psi65_del65_psi70_del70_psi75_del75_to_A__layers_32_16_16_8.pth\",\n",
    "               feature_columns=['wavelength', 'psi65', 'del65', 'psi70', 'del70', 'psi75', 'del75'],\n",
    "               target_columns=['A'])"
   ]
  },
  {
   "cell_type": "markdown",
   "id": "c2a86b2b-e274-4ed0-89e1-4d202f2e9d40",
   "metadata": {},
   "source": [
    "listing models from models folder - previously created model is listed as 'model_wavelength_psi65_del65_psi70_del70_psi75_del75_to_T_A_B_C_standardized_layers_128_64_32.pth'"
   ]
  },
  {
   "cell_type": "code",
   "execution_count": null,
   "id": "dc8386ef-436b-4068-88f4-c099216030a3",
   "metadata": {
    "scrolled": true
   },
   "outputs": [],
   "source": [
    "l.locations.list_models()"
   ]
  },
  {
   "cell_type": "code",
   "execution_count": null,
   "id": "de9db69c-800b-4074-b3b4-ca5cc41b6a6a",
   "metadata": {},
   "outputs": [],
   "source": [
    "model_dir = l.locations.get_models_dir()"
   ]
  },
  {
   "cell_type": "code",
   "execution_count": null,
   "id": "ca998932-7d3b-4932-9d77-79d6eeeedb6f",
   "metadata": {},
   "outputs": [],
   "source": [
    "model_path = os.path.join(model_dir, \"model_wavelength_psi65_del65_psi70_del70_psi75_del75_to_T_A_B_C_standardized_layers_128_64_32.pth\")"
   ]
  },
  {
   "cell_type": "markdown",
   "id": "754d3a41-d6c8-4cd7-ba00-4336c9978148",
   "metadata": {},
   "source": [
    "calculating R2 coefficient for each target column for both training dataset and test dataset"
   ]
  },
  {
   "cell_type": "code",
   "execution_count": null,
   "id": "9083ff16-ac69-4ddb-b51a-1edb1376c537",
   "metadata": {},
   "outputs": [],
   "source": [
    "t_dataset.flat_test_r2_standarized(\"scaler_wavelength_psi65_del65_psi70_del70_psi75_del75.pkl\",\n",
    "                          \"scaler_T_A_B_C.pkl\",\n",
    "                          model_name = \"model_wavelength_psi65_del65_psi70_del70_psi75_del75_to_T_A_B_C_standardized_layers_128_64_32.pth\",\n",
    "                          feature_columns=['wavelength', 'psi65', 'del65', 'psi70', 'del70', 'psi75', 'del75'],\n",
    "                          target_columns = ['T','A','B','C'])\n"
   ]
  },
  {
   "cell_type": "code",
   "execution_count": 7,
   "id": "cf829450-ff0a-4da3-8aee-82f3379fd55b",
   "metadata": {},
   "outputs": [
    {
     "name": "stdout",
     "output_type": "stream",
     "text": [
      "C Train R2: -0.8856510672763347\n",
      "C Test R2: -1.0249607424219538\n"
     ]
    }
   ],
   "source": [
    "t_dataset.flat_test_r2_100000(model_name = \"model_wavelength_psi65_del65_psi70_del70_psi75_del75_to_C_non_standardized_layers_48_48_48_48_48_48_48.pth\",\n",
    "                          feature_columns=['wavelength', 'psi65', 'del65', 'psi70', 'del70', 'psi75', 'del75'],\n",
    "                          target_columns = ['C'])\n"
   ]
  },
  {
   "cell_type": "code",
   "execution_count": 8,
   "id": "34a860c1-9d78-46f7-a5c7-2d856cd77778",
   "metadata": {},
   "outputs": [
    {
     "name": "stdout",
     "output_type": "stream",
     "text": [
      "B Train R2: 0.9497079473724275\n",
      "B Test R2: 0.9672352474313074\n"
     ]
    }
   ],
   "source": [
    "t_dataset.flat_test_r2_1000(model_name = \"model_wavelength_psi65_del65_psi70_del70_psi75_del75_to_B_non_standardized_layers_48_48_48_48_48.pth\",\n",
    "                          feature_columns=['wavelength', 'psi65', 'del65', 'psi70', 'del70', 'psi75', 'del75'],\n",
    "                          target_columns = ['B'])"
   ]
  },
  {
   "cell_type": "code",
   "execution_count": 9,
   "id": "1662f24b-8a9e-492f-91aa-36f23b16163d",
   "metadata": {},
   "outputs": [
    {
     "name": "stdout",
     "output_type": "stream",
     "text": [
      "A Train R2: 0.9832808699103135\n",
      "A Test R2: 0.7200245733891281\n"
     ]
    }
   ],
   "source": [
    "t_dataset.flat_test_r2(model_name = \"model_wavelength_psi65_del65_psi70_del70_psi75_del75_to_A_non_standardized_layers_64_32_16.pth\",\n",
    "                          feature_columns=['wavelength', 'psi65', 'del65', 'psi70', 'del70', 'psi75', 'del75'],\n",
    "                          target_columns = ['A'])"
   ]
  },
  {
   "cell_type": "code",
   "execution_count": 10,
   "id": "76773b94-a233-4fd5-ab97-3a4d8d7330c9",
   "metadata": {},
   "outputs": [
    {
     "name": "stdout",
     "output_type": "stream",
     "text": [
      "T Train R2: 0.9999787137017563\n",
      "T Test R2: 0.9996768833704095\n"
     ]
    }
   ],
   "source": [
    "t_dataset.flat_test_r2(model_name = \"model_wavelength_psi65_del65_psi70_del70_psi75_del75_to_T_non_standardized_layers_128_64_32.pth\",\n",
    "                          feature_columns=['wavelength', 'psi65', 'del65', 'psi70', 'del70', 'psi75', 'del75'],\n",
    "                          target_columns = ['T'])"
   ]
  },
  {
   "cell_type": "code",
   "execution_count": null,
   "id": "e11e3bbe-be86-47cd-a08b-4bc1d77ac8b3",
   "metadata": {},
   "outputs": [],
   "source": [
    "t_dataset.lin_reg(target_columns = [\"T\"])"
   ]
  },
  {
   "cell_type": "code",
   "execution_count": null,
   "id": "10f5eefd-21ff-47bc-b3d1-c1309f1e7c39",
   "metadata": {},
   "outputs": [],
   "source": [
    "t_dataset.lin_reg(target_columns = [\"A\"])"
   ]
  },
  {
   "cell_type": "code",
   "execution_count": null,
   "id": "e25feb4a-846d-4965-8097-68783ac854b7",
   "metadata": {},
   "outputs": [],
   "source": [
    "t_dataset.lin_reg(target_columns = [\"B\"])"
   ]
  },
  {
   "cell_type": "code",
   "execution_count": null,
   "id": "b8b75779-72af-4950-b2f7-a9a06b40c200",
   "metadata": {},
   "outputs": [],
   "source": [
    "t_dataset.lin_reg(target_columns = [\"C\"])"
   ]
  },
  {
   "cell_type": "code",
   "execution_count": null,
   "id": "484eb768-e418-4e8b-b6db-273314c23160",
   "metadata": {},
   "outputs": [],
   "source": [
    "t_dataset.flat_lin_reg(target_columns = [\"T\"])"
   ]
  },
  {
   "cell_type": "code",
   "execution_count": null,
   "id": "94f54dce-6678-4b53-8440-30a8f7152a3a",
   "metadata": {},
   "outputs": [],
   "source": [
    "t_dataset.flat_lin_reg(target_columns = [\"A\"])"
   ]
  },
  {
   "cell_type": "code",
   "execution_count": null,
   "id": "9b662787-88fb-4707-9420-b3322b5b42f7",
   "metadata": {},
   "outputs": [],
   "source": [
    "t_dataset.flat_lin_reg(target_columns = [\"B\"])"
   ]
  },
  {
   "cell_type": "code",
   "execution_count": null,
   "id": "cff1e77d-e63c-416e-b923-9a38ba6890d6",
   "metadata": {},
   "outputs": [],
   "source": [
    "t_dataset.flat_lin_reg(target_columns = [\"C\"])"
   ]
  },
  {
   "cell_type": "code",
   "execution_count": null,
   "id": "bc09d739-7a35-4f66-b420-d650aa956d97",
   "metadata": {},
   "outputs": [],
   "source": [
    "t_dataset.get_mean_r2_score(model = \"model_wavelength_psi65_del65_psi70_del70_psi75_del75_to_T_non_standardized_layers_48_32_16_8.pth\", features = ['wavelength', 'psi65', 'del65', 'psi70', 'del70', 'psi75', 'del75'], targets = ['T'])"
   ]
  },
  {
   "cell_type": "code",
   "execution_count": null,
   "id": "47e31e1d-3d63-43e5-8edc-3359fb3dbce0",
   "metadata": {},
   "outputs": [],
   "source": []
  }
 ],
 "metadata": {
  "kernelspec": {
   "display_name": "Python 3 (ipykernel)",
   "language": "python",
   "name": "python3"
  },
  "language_info": {
   "codemirror_mode": {
    "name": "ipython",
    "version": 3
   },
   "file_extension": ".py",
   "mimetype": "text/x-python",
   "name": "python",
   "nbconvert_exporter": "python",
   "pygments_lexer": "ipython3",
   "version": "3.12.3"
  }
 },
 "nbformat": 4,
 "nbformat_minor": 5
}
