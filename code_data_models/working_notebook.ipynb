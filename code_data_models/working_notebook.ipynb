{
 "cells": [
  {
   "cell_type": "markdown",
   "id": "60c74d28-3373-4a20-84a9-6d062fd41797",
   "metadata": {},
   "source": [
    "Importing notebook containing class describing dataset."
   ]
  },
  {
   "cell_type": "code",
   "execution_count": 1,
   "id": "0e6f53f9-b148-4abe-93b8-f5aab2dcf456",
   "metadata": {},
   "outputs": [],
   "source": [
    "import import_ipynb\n",
    "import training_dataset\n",
    "import os\n",
    "import locations"
   ]
  },
  {
   "cell_type": "code",
   "execution_count": 2,
   "id": "901bc58f-70cf-47a9-afc0-6ef4389876fc",
   "metadata": {},
   "outputs": [
    {
     "name": "stdout",
     "output_type": "stream",
     "text": [
      "T Train R2: 0.9993096707405098\n",
      "T Test R2: 0.9993356874053998\n",
      "A Train R2: 0.9687491631186809\n",
      "A Test R2: 0.9814682723287411\n",
      "B Train R2: 0.9583981290091143\n",
      "B Test R2: 0.9755496805029343\n",
      "C Train R2: 0.3144165526829777\n",
      "C Test R2: 0.27420299048801283\n"
     ]
    }
   ],
   "source": [
    "folder = os.getcwd()\n",
    "parent_folder = os.path.dirname(folder)\n",
    "folder_path = os.path.join(parent_folder,\"code_data_models\",\"datasets\", \"new_Si_jaw_delta\", \"\")\n",
    "model_path = os.path.join(parent_folder,\"code_data_models\",\"models\", \"modelStanderd['T', 'A', 'B', 'C']_128_64_32.pth\")\n",
    "dataset = training_dataset.training_dataset(folder_path)\n",
    "#dataset.train_standardized_flattened(feature_columns=['wavelength', 'psi65', 'del65', 'psi70', 'del70', 'psi75', 'del75'], target_columns = ['C'], hidden_layers = [5,5], loss = nn.MSELoss(), save_folder = \"models\")\n",
    "dataset.test_r2_flattened(\"standardScalerX\",\n",
    "                          \"standardScalerY\",\n",
    "                          model_name = model_path,\n",
    "                          feature_columns=['wavelength', 'psi65', 'del65', 'psi70', 'del70', 'psi75', 'del75'],\n",
    "                          target_columns = ['T','A','B','C'])\n"
   ]
  },
  {
   "cell_type": "code",
   "execution_count": null,
   "id": "a2f4e432-57bc-4ee1-989c-5c4321d43e80",
   "metadata": {},
   "outputs": [],
   "source": []
  }
 ],
 "metadata": {
  "kernelspec": {
   "display_name": "Python 3 (ipykernel)",
   "language": "python",
   "name": "python3"
  },
  "language_info": {
   "codemirror_mode": {
    "name": "ipython",
    "version": 3
   },
   "file_extension": ".py",
   "mimetype": "text/x-python",
   "name": "python",
   "nbconvert_exporter": "python",
   "pygments_lexer": "ipython3",
   "version": "3.13.2"
  }
 },
 "nbformat": 4,
 "nbformat_minor": 5
}
