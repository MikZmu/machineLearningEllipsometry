{
 "cells": [
  {
   "cell_type": "markdown",
   "id": "60c74d28-3373-4a20-84a9-6d062fd41797",
   "metadata": {},
   "source": [
    "Importing notebook containing class describing dataset."
   ]
  },
  {
   "cell_type": "code",
   "execution_count": 1,
   "id": "0e6f53f9-b148-4abe-93b8-f5aab2dcf456",
   "metadata": {},
   "outputs": [],
   "source": [
    "import import_ipynb\n",
    "import training_dataset\n",
    "import os\n",
    "import locations"
   ]
  },
  {
   "cell_type": "code",
   "execution_count": 2,
   "id": "901bc58f-70cf-47a9-afc0-6ef4389876fc",
   "metadata": {},
   "outputs": [
    {
     "name": "stdout",
     "output_type": "stream",
     "text": [
      "T Train R2:  0.9993265501816238\n",
      "A Train R2:  0.9751036437304422\n",
      "B Train R2:  0.9660701704860761\n",
      "C Train R2:  0.4921649139042205\n",
      "T Test R2:  0.9992700699598391\n",
      "A Test R2:  0.9550196826709711\n",
      "B Test R2:  0.9463011802250868\n",
      "C Test R2:  0.0011005490648434936\n"
     ]
    }
   ],
   "source": [
    "folder = os.getcwd()\n",
    "parent_folder = os.path.dirname(folder)\n",
    "folder_path = os.path.join(parent_folder,\"code_data_models\",\"datasets\", \"new_Si_jaw_delta\", \"\")\n",
    "model_path = os.path.join(parent_folder,\"code_data_models\",\"models\", \"modelStanderd['T', 'A', 'B', 'C']_128_64_32.pth\")\n",
    "dataset = training_dataset.training_dataset(folder_path)\n",
    "#dataset.train_standardized_flattened(feature_columns=['wavelength', 'psi65', 'del65', 'psi70', 'del70', 'psi75', 'del75'], target_columns = ['C'], hidden_layers = [5,5], loss = nn.MSELoss(), save_folder = \"models\")\n",
    "dataset.test_r2_flattened(\"standardScalerX\",\n",
    "                          \"standardScalerY\",\n",
    "                          model_name = model_path,\n",
    "                          feature_columns=['wavelength', 'psi65', 'del65', 'psi70', 'del70', 'psi75', 'del75'],\n",
    "                          target_columns = ['T','A','B','C'])\n"
   ]
  }
 ],
 "metadata": {
  "kernelspec": {
   "display_name": "Python 3 (ipykernel)",
   "language": "python",
   "name": "python3"
  },
  "language_info": {
   "codemirror_mode": {
    "name": "ipython",
    "version": 3
   },
   "file_extension": ".py",
   "mimetype": "text/x-python",
   "name": "python",
   "nbconvert_exporter": "python",
   "pygments_lexer": "ipython3",
   "version": "3.12.3"
  }
 },
 "nbformat": 4,
 "nbformat_minor": 5
}
