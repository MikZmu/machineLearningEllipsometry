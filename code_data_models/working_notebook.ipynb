{
 "cells": [
  {
   "cell_type": "markdown",
   "id": "60c74d28-3373-4a20-84a9-6d062fd41797",
   "metadata": {},
   "source": [
    "Importing notebook containing class describing dataset."
   ]
  },
  {
   "cell_type": "code",
   "execution_count": 2,
   "id": "0e6f53f9-b148-4abe-93b8-f5aab2dcf456",
   "metadata": {},
   "outputs": [],
   "source": [
    "import import_ipynb\n",
    "import training_dataset as td\n",
    "import os\n",
    "import torch.nn as nn\n",
    "import locations as l"
   ]
  },
  {
   "cell_type": "markdown",
   "id": "2419cba7-5ada-48ca-8f26-290e783ea784",
   "metadata": {},
   "source": [
    "listing folders in dataset folder"
   ]
  },
  {
   "cell_type": "code",
   "execution_count": 3,
   "id": "901bc58f-70cf-47a9-afc0-6ef4389876fc",
   "metadata": {},
   "outputs": [
    {
     "data": {
      "text/plain": [
       "['.ipynb_checkpoints',\n",
       " 'half_new_Si_jaw_delta',\n",
       " 'lifesat',\n",
       " 'new_Si_jaw_delta',\n",
       " 'quarter_new_Si_jaw_delta',\n",
       " 'R2_comparison_2.ipynb',\n",
       " 'si02',\n",
       " 'Si_jaw',\n",
       " 'Si_jaw_delta']"
      ]
     },
     "execution_count": 3,
     "metadata": {},
     "output_type": "execute_result"
    }
   ],
   "source": [
    "l.locations.list_datasets()"
   ]
  },
  {
   "cell_type": "code",
   "execution_count": 4,
   "id": "a2f4e432-57bc-4ee1-989c-5c4321d43e80",
   "metadata": {},
   "outputs": [],
   "source": [
    "datasets_folder = l.locations.get_data_dir()"
   ]
  },
  {
   "cell_type": "code",
   "execution_count": 5,
   "id": "5c5f3fb7-ebed-4f43-9b45-0175df2753b7",
   "metadata": {},
   "outputs": [],
   "source": [
    "specific_dataset_location = os.path.join(datasets_folder, \"new_Si_jaw_delta\")"
   ]
  },
  {
   "cell_type": "markdown",
   "id": "b22c382c-0e4b-44da-aa30-117dfd847b08",
   "metadata": {},
   "source": [
    "creating new instance of training_dataset class"
   ]
  },
  {
   "cell_type": "code",
   "execution_count": 6,
   "id": "58e723dc-93e0-4ed3-b118-319121bc1109",
   "metadata": {},
   "outputs": [],
   "source": [
    "t_dataset = td.training_dataset(specific_dataset_location)"
   ]
  },
  {
   "cell_type": "markdown",
   "id": "1f5f53b5-6d19-40f9-b5f4-cee53b07c159",
   "metadata": {},
   "source": [
    "creating scalers based on chosen columns"
   ]
  },
  {
   "cell_type": "code",
   "execution_count": null,
   "id": "84a12128-d5de-429e-be9b-1266e729e2b4",
   "metadata": {},
   "outputs": [],
   "source": [
    "t_dataset.flat_create_scaler(col=['wavelength', 'psi65', 'del65', 'psi70', 'del70', 'psi75', 'del75'])\n",
    "t_dataset.flat_create_scaler(col =['T','A','B','C'])"
   ]
  },
  {
   "cell_type": "markdown",
   "id": "ea069c1d-9f55-4b5c-bdd1-b03a0027867c",
   "metadata": {},
   "source": [
    "listing scalers present in scalers folder - previously created scalers are listed as  'scaler_wavelength_psi65_del65_psi70_del70_psi75_del75.pkl' and 'scaler_T_A_B_C.pkl'"
   ]
  },
  {
   "cell_type": "code",
   "execution_count": null,
   "id": "b02194fc-4c07-4d77-ab09-25e3468e9d05",
   "metadata": {},
   "outputs": [],
   "source": [
    "l.locations.list_scalers()"
   ]
  },
  {
   "cell_type": "markdown",
   "id": "012807ef-e396-418a-9f94-ffecf12f157c",
   "metadata": {},
   "source": [
    "training model using data scaled with previously generated scalers"
   ]
  },
  {
   "cell_type": "code",
   "execution_count": null,
   "id": "4a897b91-8001-49fa-9336-52777e86712e",
   "metadata": {},
   "outputs": [
    {
     "name": "stdout",
     "output_type": "stream",
     "text": [
      "Current Loss: 0.00022662, Test Loss: 0.00514083"
     ]
    }
   ],
   "source": [
    "t_dataset.flat_train(model_name = \"default\", feature_columns=['wavelength', 'psi65', 'del65', 'psi70', 'del70', 'psi75', 'del75'], target_columns=['A'], hidden_layers=[64, 32, 16], loss=nn.MSELoss(), bs=0)"
   ]
  },
  {
   "cell_type": "markdown",
   "id": "c2a86b2b-e274-4ed0-89e1-4d202f2e9d40",
   "metadata": {},
   "source": [
    "listing models from models folder - previously created model is listed as 'model_wavelength_psi65_del65_psi70_del70_psi75_del75_to_T_A_B_C_standardized_layers_128_64_32.pth'"
   ]
  },
  {
   "cell_type": "code",
   "execution_count": 8,
   "id": "dc8386ef-436b-4068-88f4-c099216030a3",
   "metadata": {},
   "outputs": [
    {
     "data": {
      "text/plain": [
       "['.ipynb_checkpoints',\n",
       " 'default',\n",
       " 'model.pth',\n",
       " 'modelBstandard_32_16_16_8.pth',\n",
       " 'modelBstandard_48_24_24_12.pth',\n",
       " 'modelBstandard_64_32_32_16.pth',\n",
       " 'modelCstandard_32_16_16_8.pth',\n",
       " 'modelCstandard_48_24_24_12.pth',\n",
       " 'modelCstandard_64_32_32_16.pth',\n",
       " 'modelhalfBstandard_32_16_16_8.pth',\n",
       " 'modelhalfBstandard_48_24_24_12.pth',\n",
       " 'modelhalfBstandard_64_32_32_16.pth',\n",
       " 'modelhalfCstandard_32_16_16_8.pth',\n",
       " 'modelhalfCstandard_48_24_24_12.pth',\n",
       " 'modelhalfCstandard_64_32_32_16.pth',\n",
       " 'modelquarterCstandard_32_16_16_8.pth',\n",
       " 'modelquarterCstandard_48_24_24_12.pth',\n",
       " 'modelquarterCstandard_64_32_32_16.pth',\n",
       " \"modelStanderd['C']_10_10.pth\",\n",
       " \"modelStanderd['C']_16_8_4.pth\",\n",
       " \"modelStanderd['C']_5_5.pth\",\n",
       " \"modelStanderd['C']_64_32.pth\",\n",
       " \"modelStanderd['C']_96_48_24.pth\",\n",
       " \"modelStanderd['T', 'A', 'B', 'C']_128_128_64_32.pth\",\n",
       " \"modelStanderd['T', 'A', 'B', 'C']_128_64_32.pth\",\n",
       " \"modelStanderd['T', 'A', 'B', 'C']_198_98_49.pth\",\n",
       " \"modelStanderd['T', 'A', 'B', 'C']_256_128_64_32.pth\",\n",
       " \"modelStanderd['T', 'A', 'B', 'C']_512_256_128_64.pth\",\n",
       " \"modelStanderd['T', 'A', 'B', 'C']_96_48_24.pth\",\n",
       " \"modelStanderd['T']_512_256_128_64.pth\",\n",
       " 'model_flatt_TABC.pth',\n",
       " 'model_flat_TABC.pth',\n",
       " 'model_wavelength_psi65_del65_psi70_del70_psi75_del75_to_A_non_standardized_layers_128_64_32.pth',\n",
       " 'model_wavelength_psi65_del65_psi70_del70_psi75_del75_to_C_non_standardized_layers_128_64_32.pth',\n",
       " 'model_wavelength_psi65_del65_psi70_del70_psi75_del75_to_T_A_B_C_standardized_layers_128_64_32.pth',\n",
       " 'model_wavelength_psi65_del65_psi70_del70_psi75_del75_to_T_non_standardized_layers_48_32_16_8.pth']"
      ]
     },
     "execution_count": 8,
     "metadata": {},
     "output_type": "execute_result"
    }
   ],
   "source": [
    "l.locations.list_models()"
   ]
  },
  {
   "cell_type": "code",
   "execution_count": null,
   "id": "de9db69c-800b-4074-b3b4-ca5cc41b6a6a",
   "metadata": {},
   "outputs": [],
   "source": [
    "model_dir = l.locations.get_models_dir()"
   ]
  },
  {
   "cell_type": "code",
   "execution_count": null,
   "id": "ca998932-7d3b-4932-9d77-79d6eeeedb6f",
   "metadata": {},
   "outputs": [],
   "source": [
    "model_path = os.path.join(model_dir, \"model_wavelength_psi65_del65_psi70_del70_psi75_del75_to_T_A_B_C_standardized_layers_128_64_32.pth\")"
   ]
  },
  {
   "cell_type": "markdown",
   "id": "754d3a41-d6c8-4cd7-ba00-4336c9978148",
   "metadata": {},
   "source": [
    "calculating R2 coefficient for each target column for both training dataset and test dataset"
   ]
  },
  {
   "cell_type": "code",
   "execution_count": null,
   "id": "9083ff16-ac69-4ddb-b51a-1edb1376c537",
   "metadata": {},
   "outputs": [],
   "source": [
    "t_dataset.flat_test_r2_standarized(\"scaler_wavelength_psi65_del65_psi70_del70_psi75_del75.pkl\",\n",
    "                          \"scaler_T_A_B_C.pkl\",\n",
    "                          model_name = \"model_wavelength_psi65_del65_psi70_del70_psi75_del75_to_T_A_B_C_standardized_layers_128_64_32.pth\",\n",
    "                          feature_columns=['wavelength', 'psi65', 'del65', 'psi70', 'del70', 'psi75', 'del75'],\n",
    "                          target_columns = ['T','A','B','C'])\n"
   ]
  },
  {
   "cell_type": "code",
   "execution_count": null,
   "id": "e11e3bbe-be86-47cd-a08b-4bc1d77ac8b3",
   "metadata": {},
   "outputs": [],
   "source": [
    "t_dataset.lin_reg(target_columns = [\"T\"])"
   ]
  },
  {
   "cell_type": "code",
   "execution_count": null,
   "id": "10f5eefd-21ff-47bc-b3d1-c1309f1e7c39",
   "metadata": {},
   "outputs": [],
   "source": [
    "t_dataset.lin_reg(target_columns = [\"A\"])"
   ]
  },
  {
   "cell_type": "code",
   "execution_count": null,
   "id": "e25feb4a-846d-4965-8097-68783ac854b7",
   "metadata": {},
   "outputs": [],
   "source": [
    "t_dataset.lin_reg(target_columns = [\"B\"])"
   ]
  },
  {
   "cell_type": "code",
   "execution_count": null,
   "id": "b8b75779-72af-4950-b2f7-a9a06b40c200",
   "metadata": {},
   "outputs": [],
   "source": [
    "t_dataset.lin_reg(target_columns = [\"C\"])"
   ]
  },
  {
   "cell_type": "code",
   "execution_count": null,
   "id": "484eb768-e418-4e8b-b6db-273314c23160",
   "metadata": {},
   "outputs": [],
   "source": [
    "t_dataset.flat_lin_reg(target_columns = [\"T\"])"
   ]
  },
  {
   "cell_type": "code",
   "execution_count": null,
   "id": "94f54dce-6678-4b53-8440-30a8f7152a3a",
   "metadata": {},
   "outputs": [],
   "source": [
    "t_dataset.flat_lin_reg(target_columns = [\"A\"])"
   ]
  },
  {
   "cell_type": "code",
   "execution_count": null,
   "id": "9b662787-88fb-4707-9420-b3322b5b42f7",
   "metadata": {},
   "outputs": [],
   "source": [
    "t_dataset.flat_lin_reg(target_columns = [\"B\"])"
   ]
  },
  {
   "cell_type": "code",
   "execution_count": null,
   "id": "cff1e77d-e63c-416e-b923-9a38ba6890d6",
   "metadata": {},
   "outputs": [],
   "source": [
    "t_dataset.flat_lin_reg(target_columns = [\"C\"])"
   ]
  },
  {
   "cell_type": "code",
   "execution_count": null,
   "id": "bc09d739-7a35-4f66-b420-d650aa956d97",
   "metadata": {},
   "outputs": [],
   "source": [
    "t_dataset.get_mean_r2_score(model = \"model_wavelength_psi65_del65_psi70_del70_psi75_del75_to_T_non_standardized_layers_48_32_16_8.pth\", features = ['wavelength', 'psi65', 'del65', 'psi70', 'del70', 'psi75', 'del75'], targets = ['T'])"
   ]
  },
  {
   "cell_type": "code",
   "execution_count": null,
   "id": "47e31e1d-3d63-43e5-8edc-3359fb3dbce0",
   "metadata": {},
   "outputs": [],
   "source": []
  }
 ],
 "metadata": {
  "kernelspec": {
   "display_name": "Python 3 (ipykernel)",
   "language": "python",
   "name": "python3"
  },
  "language_info": {
   "codemirror_mode": {
    "name": "ipython",
    "version": 3
   },
   "file_extension": ".py",
   "mimetype": "text/x-python",
   "name": "python",
   "nbconvert_exporter": "python",
   "pygments_lexer": "ipython3",
   "version": "3.13.2"
  }
 },
 "nbformat": 4,
 "nbformat_minor": 5
}
