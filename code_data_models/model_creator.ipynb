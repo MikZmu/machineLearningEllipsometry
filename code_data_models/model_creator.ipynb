{
 "cells": [
  {
   "cell_type": "code",
   "execution_count": 2,
   "id": "37c7913a-35a8-47c3-9b9d-f13bd66a82de",
   "metadata": {},
   "outputs": [],
   "source": [
    "import torch\n",
    "import torch.nn as nn\n",
    "import import_ipynb\n",
    "\n",
    "class MLP(nn.Module):\n",
    "    def __init__(self, input_size, output_size, hidden_layers, activation_fn=nn.ReLU):\n",
    "\n",
    "        super(MLP, self).__init__()\n",
    "        if len(hidden_layers) > 5:\n",
    "            raise ValueError(\"The number of hidden layers cannot exceed 5.\")\n",
    "\n",
    "        self.layers = nn.ModuleList()\n",
    "        prev_size = input_size\n",
    "\n",
    "        # Create hidden layers\n",
    "        for neurons in hidden_layers:\n",
    "            self.layers.append(nn.Linear(prev_size, neurons))\n",
    "            self.layers.append(activation_fn())  # Add the specified activation function\n",
    "            prev_size = neurons\n",
    "\n",
    "        # Create output layer\n",
    "        self.layers.append(nn.Linear(prev_size, output_size))\n",
    "\n",
    "    def forward(self, x):\n",
    "        for layer in self.layers:\n",
    "            x = layer(x)\n",
    "        return x"
   ]
  },
  {
   "cell_type": "code",
   "execution_count": null,
   "id": "b8a0fa3b-eb59-471d-90d0-b6e6f2d83da1",
   "metadata": {},
   "outputs": [],
   "source": []
  }
 ],
 "metadata": {
  "kernelspec": {
   "display_name": "Python 3 (ipykernel)",
   "language": "python",
   "name": "python3"
  },
  "language_info": {
   "codemirror_mode": {
    "name": "ipython",
    "version": 3
   },
   "file_extension": ".py",
   "mimetype": "text/x-python",
   "name": "python",
   "nbconvert_exporter": "python",
   "pygments_lexer": "ipython3",
   "version": "3.13.2"
  }
 },
 "nbformat": 4,
 "nbformat_minor": 5
}
