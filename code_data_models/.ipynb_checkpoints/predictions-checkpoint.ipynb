{
 "cells": [
  {
   "cell_type": "code",
   "execution_count": 6,
   "id": "b96ffbf3-3e14-4259-a749-394b9e4c4d92",
   "metadata": {},
   "outputs": [],
   "source": [
    "import torch\n",
    "import statistics\n",
    "\n",
    "\n",
    "def predict_file_median(model, file_dataset):\n",
    "\n",
    "    values = []\n",
    "\n",
    "    for i in file_dataset:\n",
    "        #ii = list(map(float, i))s\n",
    "        with torch.no_grad():\n",
    "            prediction = model(i)\n",
    "            prediction = prediction.item()\n",
    "            values.append(prediction)\n",
    "            values = list(map(float, values))\n",
    "\n",
    "\n",
    "    return statistics.median(values)\n",
    "\n",
    "\n",
    "def predict_file_mean(model, file_dataset):\n",
    "\n",
    "    values = []\n",
    "\n",
    "    for i in file_dataset:\n",
    "        #ii = list(map(float, i))\n",
    "        #print(i)\n",
    "        with torch.no_grad():\n",
    "            prediction = model(i)\n",
    "            prediction = prediction.item()\n",
    "            values.append(prediction)\n",
    "            values = list(map(float, values))\n",
    "\n",
    "    return statistics.mean(values)\n",
    "\n"
   ]
  },
  {
   "cell_type": "code",
   "execution_count": null,
   "id": "ab4df5d9-e556-4858-a50c-aa525e90c76c",
   "metadata": {},
   "outputs": [],
   "source": []
  }
 ],
 "metadata": {
  "kernelspec": {
   "display_name": "Python 3 (ipykernel)",
   "language": "python",
   "name": "python3"
  },
  "language_info": {
   "codemirror_mode": {
    "name": "ipython",
    "version": 3
   },
   "file_extension": ".py",
   "mimetype": "text/x-python",
   "name": "python",
   "nbconvert_exporter": "python",
   "pygments_lexer": "ipython3",
   "version": "3.13.2"
  }
 },
 "nbformat": 4,
 "nbformat_minor": 5
}
