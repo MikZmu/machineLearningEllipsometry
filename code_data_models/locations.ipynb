{
 "cells": [
  {
   "cell_type": "code",
   "execution_count": null,
   "id": "81e05501-f5e6-42f3-9a26-84c0468ebf48",
   "metadata": {},
   "outputs": [],
   "source": [
    "import os\n",
    "\n",
    "parent_dir = os.getcwd()\n",
    "\n",
    "scalers_dir = os.path.join(parent_dir, \"scalers\")\n",
    "\n",
    "models_dir = os.path.join(parent_dir, \"models\")\n",
    "\n",
    "datasets_dir = os.path.join(parent_dir, \"datasets\")\n",
    "\n",
    "def list_datasets():\n",
    "    \"\"\"\n",
    "    List all datasets in the datasets directory.\n",
    "    \"\"\"\n",
    "    datasets = os.listdir(datasets_dir)\n",
    "    return datasets\n"
   ]
  }
 ],
 "metadata": {
  "kernelspec": {
   "display_name": "Python 3 (ipykernel)",
   "language": "python",
   "name": "python3"
  },
  "language_info": {
   "codemirror_mode": {
    "name": "ipython",
    "version": 3
   },
   "file_extension": ".py",
   "mimetype": "text/x-python",
   "name": "python",
   "nbconvert_exporter": "python",
   "pygments_lexer": "ipython3",
   "version": "3.13.2"
  }
 },
 "nbformat": 4,
 "nbformat_minor": 5
}
