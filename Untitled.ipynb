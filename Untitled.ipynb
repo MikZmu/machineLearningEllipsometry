{
 "cells": [
  {
   "cell_type": "code",
   "execution_count": null,
   "id": "b28a55a7-5d80-4433-b45c-63a9d048f549",
   "metadata": {},
   "outputs": [],
   "source": [
    "import os\n",
    "import numpy as np\n",
    "import matplotlib.pyplot as plt\n",
    "import pandas as pd\n",
    "\n",
    "# Define the path to the folder\n",
    "folder_path = os.path.join(\"datasets\", \"Si_jaw_delta\", \"\")\n",
    "os.makedirs(folder_path, exist_ok=True)\n",
    "# Get a list of all items in the folder\n",
    "all_items = os.listdir(folder_path)\n",
    "\n",
    "# Filter the list to include only files\n",
    "files = [item for item in all_items if os.path.isfile(os.path.join(folder_path, item))]\n",
    "\n",
    "dataFrame = pd.DataFrame()\n",
    "\n",
    "\n",
    "\n",
    "for i in files:\n",
    "    dataHelper = pd.read_csv(folder_path + i, sep='\\t', header=None, index_col=False)\n",
    "    info = i.split('_')\n",
    "    T = info[0]\n",
    "    A = info[1]\n",
    "    B = info[2]\n",
    "    C = info[3]\n",
    "    dataHelper = dataHelper.drop(index = [0])\n",
    "    dataHelper = dataHelper.drop(columns = [7])\n",
    "    dataHelper.columns = ['wavelength', 'psi60', 'psi65', 'psi70','psi60*','psi65*','psi70*']\n",
    "    dataHelper['T'] = T\n",
    "    dataHelper['A'] = A\n",
    "    dataHelper['B'] = B\n",
    "    dataHelper['C'] = C.removesuffix(\".txt\")\n",
    "    dataFrame = pd.concat([dataFrame, dataHelper], ignore_index=True)\n",
    "\n",
    "\n",
    "\n",
    "dataFrame.head()"
   ]
  }
 ],
 "metadata": {
  "kernelspec": {
   "display_name": "Python 3 (ipykernel)",
   "language": "python",
   "name": "python3"
  },
  "language_info": {
   "codemirror_mode": {
    "name": "ipython",
    "version": 3
   },
   "file_extension": ".py",
   "mimetype": "text/x-python",
   "name": "python",
   "nbconvert_exporter": "python",
   "pygments_lexer": "ipython3",
   "version": "3.13.2"
  }
 },
 "nbformat": 4,
 "nbformat_minor": 5
}
