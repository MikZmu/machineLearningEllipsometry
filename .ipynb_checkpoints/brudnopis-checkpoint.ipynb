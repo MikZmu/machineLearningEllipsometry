{
 "cells": [
  {
   "cell_type": "code",
   "execution_count": null,
   "id": "0dc26d9e-c4f6-469c-a3bc-4d063047f3da",
   "metadata": {},
   "outputs": [],
   "source": []
  }
 ],
 "metadata": {
  "kernelspec": {
   "display_name": "",
   "name": ""
  },
  "language_info": {
   "name": ""
  }
 },
 "nbformat": 4,
 "nbformat_minor": 5
}
