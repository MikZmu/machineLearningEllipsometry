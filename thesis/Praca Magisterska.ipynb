{
 "cells": [
  {
   "cell_type": "markdown",
   "id": "ee329a9e-1e6b-45ae-81ab-283cc198747c",
   "metadata": {},
   "source": [
    "<div style=\"text-align: justify;\">\n",
    "    Do reprezentacji danych elipsometrycznych użyto dwóch klas: training_sample oraz training_dataset. Klasa training_sample opisuje pojedyńczy zestaw danych dotyczący jednej próbki. Zawiera on informacje o wartościach PSI oraz DELTA dla długości fal od 300 do 1000 z krokiem 10nm. Klasa training_dataset opisuje zaś zbiór próbek które można wykorzystać do uczenia modeli. Klasy te zakładają, że dane na temat próbki - tj. grubość, oraz współczynniki A, B, C są zawarte w nazwie pliku, z którego dane są wczytywane, zgodnie ze wzorem opisanym w poprzednim akapicie. W celu zachowania czytelności tekstu oraz przedstawienia działania funkcji znajdujących się w poszczególnych klasach, każda zastosowana funkcja której powstanie było wynikiem tej pracy zostanie przedstawiona przed wywołaniem jej w kodzie. Ze względu na brak natywnego wsparcia Jupyter Notebook dla importowania innych notatników do notatnika obecnie używanego, zastosowano bibliotekę `importnb`, która pozwala na importowanie innych notatników jako modułów Pythona. W celu poprawnego działania należy zainstalować tę bibliotekę, co można zrobić za pomocą polecenia `pip install importnb`. W celu dokonania analizy zbioru danych utworzono instancję klasy training_dataset. Konstruktor tej klasy przedstawiono poniżej:\n",
    "\n",
    "</div>"
   ]
  },
  {
   "cell_type": "code",
   "execution_count": 1,
   "id": "d1c628a9-6aed-4bd1-b04a-725fdace052e",
   "metadata": {},
   "outputs": [],
   "source": [
    "def __init__(self, dataset_folder):\n",
    "    \"\"\"\n",
    "    Initializes the training_dataset object by gathering samples from the specified dataset folder.\n",
    "    \n",
    "    Parameters:\n",
    "    - dataset_folder: str, the path to the folder containing the dataset files.\n",
    "    \"\"\"\n",
    "    self.samples = self.gather_samples(dataset_folder)"
   ]
  },
  {
   "cell_type": "code",
   "execution_count": null,
   "id": "90608188-55ef-4e88-a352-e8455bb947aa",
   "metadata": {},
   "outputs": [],
   "source": []
  },
  {
   "cell_type": "code",
   "execution_count": null,
   "id": "8e72a66b-8ed1-4159-a3bb-e101f3735701",
   "metadata": {},
   "outputs": [],
   "source": []
  }
 ],
 "metadata": {
  "kernelspec": {
   "display_name": "Python 3 (ipykernel)",
   "language": "python",
   "name": "python3"
  },
  "language_info": {
   "codemirror_mode": {
    "name": "ipython",
    "version": 3
   },
   "file_extension": ".py",
   "mimetype": "text/x-python",
   "name": "python",
   "nbconvert_exporter": "python",
   "pygments_lexer": "ipython3",
   "version": "3.13.2"
  }
 },
 "nbformat": 4,
 "nbformat_minor": 5
}
