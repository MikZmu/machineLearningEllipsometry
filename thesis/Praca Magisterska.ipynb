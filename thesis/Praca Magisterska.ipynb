{
 "cells": [
  {
   "cell_type": "markdown",
   "id": "ee329a9e-1e6b-45ae-81ab-283cc198747c",
   "metadata": {},
   "source": [
    "<h2 style='text-align: right;'> A right aligned header 2 </h2>\n"
   ]
  },
  {
   "cell_type": "markdown",
   "id": "67023b15-b906-450b-9af0-d9ee877bd913",
   "metadata": {},
   "source": [
    "<style>\n",
    "@page {\n",
    "    size: A4;\n",
    "    margin: 20mm;\n",
    "}\n",
    "body {\n",
    "    font-family: Arial, sans-serif;\n",
    "    font-size: 12pt;\n",
    "    line-height: 1.5;\n",
    "    text-align: justify;\n",
    "\n",
    "}\n",
    "    style = 'text-align: justify;'\n",
    "}\n",
    "</style>\n",
    "\n",
    "<div>\n",
    "    \tElipsometria to nieniszcząca technika pozwalająca na badanie właściwości warstw cienkich takich jak grubość bądź współczynnik załamania światła. Technika ta została zapoczątkowana na początku lat 50 XX wieku. Motywacją stojąca za jej opracowaniem był fakt, że konwencjonalne metody pomiarów grubości – tj. mikrometry bądź suwmiarki – są nieefektywne przy dokonywaniu pomiarów warstwach cienkich, których wymiary mogą zawierać się w zakresie od dziesiątych części mikrometra do nawet pojedynczych nanometrów. Metodom tym brak odpowiedniej precyzji, która zapewniłaby badaczowi pożądane informacje z adekwatną dokładnością. Dane na temat próbki uzyskuje się podczas pomiaru elipsometrycznego poprzez obserwację zmiany polaryzacji wiązki światła o znanej polaryzacji po odbiciu od badanej warstwy. Schemat elipsometrycznego układu pomiarowego przedstawiono na rysunku 1.\n",
    "\n",
    "    \n",
    "</div>"
   ]
  },
  {
   "cell_type": "code",
   "execution_count": null,
   "id": "90608188-55ef-4e88-a352-e8455bb947aa",
   "metadata": {},
   "outputs": [],
   "source": []
  },
  {
   "cell_type": "code",
   "execution_count": null,
   "id": "8e72a66b-8ed1-4159-a3bb-e101f3735701",
   "metadata": {},
   "outputs": [],
   "source": []
  }
 ],
 "metadata": {
  "kernelspec": {
   "display_name": "Python 3 (ipykernel)",
   "language": "python",
   "name": "python3"
  },
  "language_info": {
   "codemirror_mode": {
    "name": "ipython",
    "version": 3
   },
   "file_extension": ".py",
   "mimetype": "text/x-python",
   "name": "python",
   "nbconvert_exporter": "python",
   "pygments_lexer": "ipython3",
   "version": "3.13.2"
  }
 },
 "nbformat": 4,
 "nbformat_minor": 5
}
