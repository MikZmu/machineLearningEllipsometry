{
 "cells": [
  {
   "cell_type": "markdown",
   "id": "189b047a-44b5-47f1-8437-11ebbbdc62cb",
   "metadata": {},
   "source": [
    "<div style=\"font-family: Impact, sans-serif; font-size: 16px; text-align: left;\">\n",
    "    Wstęp\n",
    "</div>"
   ]
  },
  {
   "cell_type": "markdown",
   "id": "38197192-1f57-4858-a760-59bc83c036a7",
   "metadata": {},
   "source": [
    "<style>\n",
    "@page {\n",
    "    size: A4;\n",
    "    margin: 20mm;\n",
    "}\n",
    "body {\n",
    "    font-family: Arial, sans-serif;\n",
    "    font-size: 12pt;\n",
    "    line-height: 1.5;\n",
    "}\n",
    "</style>\n",
    "\n",
    "<div>\n",
    "    Empiryczne Prawo Moore'a stanowi, że liczba tranzystorów w układach scalonych podwaja się co około 18 miesięcy.\n",
    "\n",
    "    \n",
    "</div>"
   ]
  },
  {
   "cell_type": "code",
   "execution_count": null,
   "id": "90608188-55ef-4e88-a352-e8455bb947aa",
   "metadata": {},
   "outputs": [],
   "source": []
  },
  {
   "cell_type": "code",
   "execution_count": null,
   "id": "8e72a66b-8ed1-4159-a3bb-e101f3735701",
   "metadata": {},
   "outputs": [],
   "source": []
  }
 ],
 "metadata": {
  "kernelspec": {
   "display_name": "Python 3 (ipykernel)",
   "language": "python",
   "name": "python3"
  },
  "language_info": {
   "codemirror_mode": {
    "name": "ipython",
    "version": 3
   },
   "file_extension": ".py",
   "mimetype": "text/x-python",
   "name": "python",
   "nbconvert_exporter": "python",
   "pygments_lexer": "ipython3",
   "version": "3.13.2"
  }
 },
 "nbformat": 4,
 "nbformat_minor": 5
}
