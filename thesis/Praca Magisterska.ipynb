{
 "cells": [
  {
   "cell_type": "markdown",
   "id": "ee329a9e-1e6b-45ae-81ab-283cc198747c",
   "metadata": {},
   "source": [
    "<div style=\"text-align: justify;\">\n",
    "    Do reprezentacji danych elipsometrycznych użyto dwóch klas: training_sample oraz training_dataset. Klasa training_sample opisuje pojedyńczy zestaw danych dotyczący jednej próbki. Zawiera on informacje o wartościach PSI oraz DELTA dla długości fal od 300 do 1000 z krokiem 10nm. Klasa training_dataset opisuje zaś zbiór próbek które można wykorzystać do uczenia modeli. Klasy te zakładają, że dane na temat próbki - tj. grubość, oraz współczynniki A, B, C są zawarte w nazwie pliku, z którego dane są wczytywane, zgodnie ze wzorem opisanym w poprzednim akapicie. W celu zachowania czytelności tekstu oraz przedstawienia działania funkcji znajdujących się w poszczególnych klasach, każda zastosowana funkcja której powstanie było wynikiem tej pracy zostanie przedstawiona przed wywołaniem jej w kodzie. Ze względu na brak natywnego wsparcia Jupyter Notebook dla importowania innych notatników do notatnika obecnie używanego, zastosowano bibliotekę `importnb`, która pozwala na importowanie innych notatników jako modułów Pythona. W celu poprawnego działania należy zainstalować tę bibliotekę, co można zrobić za pomocą polecenia `pip install importnb`. W celu dokonania analizy zbioru danych utworzono instancję klasy training_dataset. Konstruktor klasy training_dataset zamieszono poniżej.\n",
    "\n",
    "</div>"
   ]
  },
  {
   "cell_type": "code",
   "execution_count": 1,
   "id": "d1c628a9-6aed-4bd1-b04a-725fdace052e",
   "metadata": {},
   "outputs": [],
   "source": [
    "def __init__(self, dataset_folder, col):\n",
    "        \"\"\"\n",
    "        Initializes the training_dataset object by gathering training samples from the specified dataset folder.\n",
    "\n",
    "        Parameters:\n",
    "        - dataset_folder: str, the path to the folder containing the dataset files.\n",
    "        - col: list, the columns to be used for processing the dataset.\n",
    "        \"\"\"\n",
    "        self.samples = self.gather_samples(dataset_folder, col)\n",
    "    "
   ]
  },
  {
   "cell_type": "markdown",
   "id": "85ab7af6-7c3a-4be8-9bc8-d458401d1c7b",
   "metadata": {},
   "source": [
    "<div style=\"text-align: justify;\">\n",
    "    Jak widać funkcja ta przyjmuje jako argumenty datasets_folder - lokalizację zbioru danych które chcemy poddać analizie - oraz col - listę kolumn które znajdować się będą w pojedyńczej próbce należącej do zbioru danych. Poniżej importowane są istotne biblioteki. Biblioteka import_ipynb jest wykorzystywana do importowania innych notatników jako modułów Pythona, co pozwala na korzystanie z funkcji i klas zdefiniowanych w tych notatnikach.\n",
    "Biblioteka training_dataset zawiera istotny dla nas kod.\n",
    "</div>"
   ]
  },
  {
   "cell_type": "code",
   "execution_count": 1,
   "id": "43a2d0bd-85d7-40aa-8822-5e0451179a3d",
   "metadata": {},
   "outputs": [
    {
     "ename": "ModuleNotFoundError",
     "evalue": "No module named 'training_dataset'",
     "output_type": "error",
     "traceback": [
      "\u001b[31m---------------------------------------------------------------------------\u001b[39m",
      "\u001b[31mModuleNotFoundError\u001b[39m                       Traceback (most recent call last)",
      "\u001b[36mCell\u001b[39m\u001b[36m \u001b[39m\u001b[32mIn[1]\u001b[39m\u001b[32m, line 2\u001b[39m\n\u001b[32m      1\u001b[39m \u001b[38;5;28;01mimport\u001b[39;00m\u001b[38;5;250m \u001b[39m\u001b[34;01mimport_ipynb\u001b[39;00m\n\u001b[32m----> \u001b[39m\u001b[32m2\u001b[39m \u001b[38;5;28;01mimport\u001b[39;00m\u001b[38;5;250m \u001b[39m\u001b[34;01mtraining_dataset\u001b[39;00m\n",
      "\u001b[31mModuleNotFoundError\u001b[39m: No module named 'training_dataset'"
     ]
    }
   ],
   "source": [
    "import import_ipynb\n",
    "import training_dataset"
   ]
  },
  {
   "cell_type": "code",
   "execution_count": null,
   "id": "8e72a66b-8ed1-4159-a3bb-e101f3735701",
   "metadata": {},
   "outputs": [],
   "source": []
  }
 ],
 "metadata": {
  "kernelspec": {
   "display_name": "Python 3 (ipykernel)",
   "language": "python",
   "name": "python3"
  },
  "language_info": {
   "codemirror_mode": {
    "name": "ipython",
    "version": 3
   },
   "file_extension": ".py",
   "mimetype": "text/x-python",
   "name": "python",
   "nbconvert_exporter": "python",
   "pygments_lexer": "ipython3",
   "version": "3.13.2"
  }
 },
 "nbformat": 4,
 "nbformat_minor": 5
}
